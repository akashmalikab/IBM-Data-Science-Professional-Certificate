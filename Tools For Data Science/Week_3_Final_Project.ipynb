{
    "cells": [
        {
            "cell_type": "markdown",
            "metadata": {
                "collapsed": true
            },
            "source": "# My Jupyter Notebook on IBM Watson Studio"
        },
        {
            "cell_type": "markdown",
            "metadata": {},
            "source": "## Malik Akash Malik "
        },
        {
            "cell_type": "markdown",
            "metadata": {},
            "source": "Student at DIT UNIVERSITY"
        },
        {
            "cell_type": "markdown",
            "metadata": {},
            "source": "<i> I am interested in Data Science because I want to be a sport Anlytics in IPL or Indian Team <i>"
        },
        {
            "cell_type": "markdown",
            "metadata": {},
            "source": "### Calculate the sum of 2 + 10 "
        },
        {
            "cell_type": "code",
            "execution_count": 2,
            "metadata": {},
            "outputs": [
                {
                    "data": {
                        "text/plain": "12"
                    },
                    "execution_count": 2,
                    "metadata": {},
                    "output_type": "execute_result"
                }
            ],
            "source": "2+10"
        },
        {
            "cell_type": "markdown",
            "metadata": {},
            "source": "1. Akash Malik\n2. Data Scientist\n3. Professional\n\n\n\n***"
        },
        {
            "cell_type": "markdown",
            "metadata": {},
            "source": "- This is my yard\n- john cena\n- Bhadargad"
        },
        {
            "cell_type": "code",
            "execution_count": null,
            "metadata": {},
            "outputs": [],
            "source": ""
        }
    ],
    "metadata": {
        "kernelspec": {
            "display_name": "Python 3.6",
            "language": "python",
            "name": "python3"
        },
        "language_info": {
            "codemirror_mode": {
                "name": "ipython",
                "version": 3
            },
            "file_extension": ".py",
            "mimetype": "text/x-python",
            "name": "python",
            "nbconvert_exporter": "python",
            "pygments_lexer": "ipython3",
            "version": "3.6.9"
        }
    },
    "nbformat": 4,
    "nbformat_minor": 1
}